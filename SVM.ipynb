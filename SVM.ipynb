{
 "cells": [
  {
   "cell_type": "markdown",
   "metadata": {},
   "source": [
    "### SVM \n",
    "\n",
    "Support Vector Machine (SVM) is a powerful classification machine learning algorithm.\n",
    "\n",
    "Considering samples $D=\\{(x_1, y_1), (x_2, y_2),..., (x_m, y_m)\\}$,\n",
    "Sample space can be divided by such hyperplane $w\n",
    "^Tx+b=0$ where $w = (w_1; w_2; ...; w_d)$ is the normal vector, which decides the direction of the hyperplane, and $b$ is the intercept. \n",
    "\n",
    "The distance between any point $x$ in the sample space to the hyperplane is\n",
    "$$r = \\frac{|w^Tx+b|}{||w||}$$\n",
    "\n",
    "\n",
    "Suppose the hyperplane $(w,b)$ can classify the training samples correctly, i.e. for $(x_i,y_i) \\in D$, if $y_i=+1$ then we have $w^Tx_i+b > 0$. If $y_i=-1$ then $w^Tx_i +b <0$\n",
    "\n",
    "Let $$\\left\\{\n",
    "         \\begin{array}{ll}\n",
    "           w^Tx_i+b \\geq +1, & y_i=+1\\\\\n",
    "           w^Tx_i+b \\leq -1, & y_i=-1\n",
    "                \\end{array}\n",
    "              \\right.$$"
   ]
  },
  {
   "cell_type": "markdown",
   "metadata": {},
   "source": []
  }
 ],
 "metadata": {
  "kernelspec": {
   "display_name": "Python 3",
   "language": "python",
   "name": "python3"
  },
  "language_info": {
   "codemirror_mode": {
    "name": "ipython",
    "version": 3
   },
   "file_extension": ".py",
   "mimetype": "text/x-python",
   "name": "python",
   "nbconvert_exporter": "python",
   "pygments_lexer": "ipython3",
   "version": "3.7.7"
  }
 },
 "nbformat": 4,
 "nbformat_minor": 4
}
