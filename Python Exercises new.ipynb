{
 "cells": [
  {
   "cell_type": "markdown",
   "metadata": {},
   "source": [
    "# Python Exercises"
   ]
  },
  {
   "cell_type": "markdown",
   "metadata": {},
   "source": [
    "As mentioned in **Python 101**, the best way to learn programming is to '*Practice! Practice! Practice!*'. Now let's put our knowledge into practice."
   ]
  },
  {
   "cell_type": "markdown",
   "metadata": {},
   "source": [
    "## Problem 1 (List, Set, Iteration, Operators)"
   ]
  },
  {
   "cell_type": "markdown",
   "metadata": {},
   "source": [
    "John works at a clothing store. He has a large pile of socks that he must pair by color for sale. Given an array of integers representing the color of each sock, determine how many pairs of socks with matching colors there are."
   ]
  },
  {
   "cell_type": "markdown",
   "metadata": {},
   "source": [
    "**Requirement**"
   ]
  },
  {
   "cell_type": "markdown",
   "metadata": {},
   "source": [
    "Write a <code>sockMerchant</code> function which must return an integer representing the number of matching pairs of socks that are available."
   ]
  },
  {
   "cell_type": "markdown",
   "metadata": {},
   "source": [
    "<code>sockMerchant</code> has the following parameter(s):\n",
    "- n: the number of socks in the pile (integers from 1 to 100)\n",
    "- ar: the colors of each sock (represented as integers from 1 to 100)"
   ]
  },
  {
   "cell_type": "markdown",
   "metadata": {},
   "source": [
    "*Example*"
   ]
  },
  {
   "cell_type": "markdown",
   "metadata": {},
   "source": [
    "<code>ar = [10, 20, 20, 10, 10, 30, 50, 10, 20]</code>\n",
    "\n",
    "<code>sockMerchant(ar)</code>\n",
    "\n",
    "output: 3"
   ]
  },
  {
   "cell_type": "code",
   "execution_count": 58,
   "metadata": {
    "ExecuteTime": {
     "end_time": "2020-01-15T00:04:26.555297Z",
     "start_time": "2020-01-15T00:04:26.550299Z"
    },
    "code_folding": []
   },
   "outputs": [],
   "source": [
    "def sockMerchant(ar):\n",
    "    colors = set(ar)\n",
    "    pairs = 0\n",
    "    for color  in colors:\n",
    "        pairs += ar.count(color) // 2\n",
    "    return pairs"
   ]
  },
  {
   "cell_type": "code",
   "execution_count": 59,
   "metadata": {
    "ExecuteTime": {
     "end_time": "2020-01-15T00:04:35.316472Z",
     "start_time": "2020-01-15T00:04:35.305639Z"
    }
   },
   "outputs": [
    {
     "data": {
      "text/plain": [
       "{10, 20, 30, 50}"
      ]
     },
     "execution_count": 59,
     "metadata": {},
     "output_type": "execute_result"
    }
   ],
   "source": [
    "set([10, 20, 20, 10, 10, 30, 50, 10, 20])"
   ]
  },
  {
   "cell_type": "code",
   "execution_count": 60,
   "metadata": {
    "ExecuteTime": {
     "end_time": "2020-01-15T00:06:13.547849Z",
     "start_time": "2020-01-15T00:06:13.531295Z"
    }
   },
   "outputs": [
    {
     "data": {
      "text/plain": [
       "2"
      ]
     },
     "execution_count": 60,
     "metadata": {},
     "output_type": "execute_result"
    }
   ],
   "source": [
    "ar = [10, 20, 20, 10, 10, 30, 50]\n",
    "sockMerchant(ar)"
   ]
  },
  {
   "cell_type": "markdown",
   "metadata": {},
   "source": [
    "## Problem 2 (String, Iteration, Conditions)"
   ]
  },
  {
   "cell_type": "markdown",
   "metadata": {},
   "source": [
    "Gary is an avid hiker. He tracks his hikes meticulously, paying close attention to small details like topography. During his last hike he took exactly <code>n</code> steps. For every step he took, he noted if it was an uphill,<code>U</code> , or a downhill, <code>D</code> step. Gary's hikes start and end at sea level and each step up or down represents a <code>1</code> unit change in altitude. We define the following term:\n",
    "- A valley is a sequence of consecutive steps below sea level, starting with a step down from sea level and ending with a step up to sea level."
   ]
  },
  {
   "cell_type": "markdown",
   "metadata": {},
   "source": [
    "**Requirement**"
   ]
  },
  {
   "cell_type": "markdown",
   "metadata": {},
   "source": [
    "Given Gary's sequence of up and down steps during his last hike, find and print the number of valleys he walked through by writing a <code>countingValleys</code> function."
   ]
  },
  {
   "cell_type": "markdown",
   "metadata": {},
   "source": [
    "Parameter:\n",
    "- s: a string of n characters that describe his path."
   ]
  },
  {
   "cell_type": "markdown",
   "metadata": {},
   "source": [
    "*Example*"
   ]
  },
  {
   "cell_type": "markdown",
   "metadata": {},
   "source": [
    "<code>s = 'UDDDUDUU'</code>\n",
    "\n",
    "<code>countingValleys(s)</code>\n",
    "\n",
    "output: 1"
   ]
  },
  {
   "cell_type": "code",
   "execution_count": 3,
   "metadata": {
    "ExecuteTime": {
     "end_time": "2020-01-13T01:57:58.270369Z",
     "start_time": "2020-01-13T01:57:58.263423Z"
    },
    "code_folding": []
   },
   "outputs": [],
   "source": [
    "def countingValleys(s):\n",
    "    level = 0\n",
    "    valleys = 0\n",
    "    for ch in s:\n",
    "        prevLevel = level\n",
    "        level += (1 if ch == 'U' else -1)\n",
    "        if level == -1 and prevLevel == 0:\n",
    "            valleys += 1\n",
    "            \n",
    "    return valleys"
   ]
  },
  {
   "cell_type": "code",
   "execution_count": 4,
   "metadata": {
    "ExecuteTime": {
     "end_time": "2020-01-13T01:57:58.861528Z",
     "start_time": "2020-01-13T01:57:58.854655Z"
    }
   },
   "outputs": [
    {
     "data": {
      "text/plain": [
       "3"
      ]
     },
     "execution_count": 4,
     "metadata": {},
     "output_type": "execute_result"
    }
   ],
   "source": [
    "s = 'UDDDUDUUDUUUDDDUU'\n",
    "countingValleys(s)"
   ]
  },
  {
   "cell_type": "markdown",
   "metadata": {},
   "source": [
    "## Problem 3 (Loop, Conditions)"
   ]
  },
  {
   "cell_type": "markdown",
   "metadata": {},
   "source": [
    "Emma is playing a new mobile game that starts with consecutively numbered clouds. Some of the clouds are **thunderheads** and others are **cumulus**. She can jump on any cumulus cloud having a number that is equal to the number of the current cloud plus $1$ or $2$. She must avoid the thunderheads. Determine the minimum number of jumps it will take Emma to jump from her starting postion to the last cloud. **It is always possible to win the game.**\n",
    "\n",
    "For each game, Emma will get an array of clouds numbered $0$ if they are safe or $1$ if they must be avoided. For example, <code>c=[0,1,0,0,0,1,0]</code> indexed from $0\\dots6$. The number on each cloud is its index in the list so she must avoid the clouds at indexes $1$ and $5$. She could follow the following two paths: $0\\rightarrow2\\rightarrow4\\rightarrow6$ or $0\\rightarrow2\\rightarrow3\\rightarrow4\\rightarrow6$. The first path takes $3$ jumps while the second takes $4$."
   ]
  },
  {
   "cell_type": "markdown",
   "metadata": {},
   "source": [
    "**Requirement**"
   ]
  },
  {
   "cell_type": "markdown",
   "metadata": {},
   "source": [
    "Write a <code>jumpingOnClouds(c)</code> function which returns the **minimum** number of jumps required, as an integer.\n",
    "\n",
    "Parameter:\n",
    "- c: an array of binary integers"
   ]
  },
  {
   "cell_type": "markdown",
   "metadata": {},
   "source": [
    "*Example*"
   ]
  },
  {
   "cell_type": "markdown",
   "metadata": {},
   "source": [
    "<code>c = [0, 0, 1, 0, 0, 1, 0]</code>\n",
    "\n",
    "<code>jumpingOnClouds(c)</code>\n",
    "\n",
    "output: 4"
   ]
  },
  {
   "cell_type": "code",
   "execution_count": 5,
   "metadata": {
    "ExecuteTime": {
     "end_time": "2020-01-13T01:58:03.001911Z",
     "start_time": "2020-01-13T01:58:02.996420Z"
    },
    "code_folding": []
   },
   "outputs": [],
   "source": [
    "def jumpingOnClouds(c):\n",
    "    jumps = 0\n",
    "    position = 0\n",
    "    while position < len(c) - 1:\n",
    "        if position == len(c) - 2:\n",
    "            jumps += 1\n",
    "            break\n",
    "        if c[position + 2] == 0:\n",
    "            jumps += 1\n",
    "            position += 2\n",
    "        else:\n",
    "            jumps += 1\n",
    "            position += 1\n",
    "    \n",
    "    return jumps"
   ]
  },
  {
   "cell_type": "code",
   "execution_count": 6,
   "metadata": {
    "ExecuteTime": {
     "end_time": "2020-01-13T01:58:03.432146Z",
     "start_time": "2020-01-13T01:58:03.421677Z"
    }
   },
   "outputs": [
    {
     "data": {
      "text/plain": [
       "7"
      ]
     },
     "execution_count": 6,
     "metadata": {},
     "output_type": "execute_result"
    }
   ],
   "source": [
    "c = [0, 0, 1, 0, 0, 1, 0, 0, 0, 0, 1, 0]\n",
    "jumpingOnClouds(c)"
   ]
  },
  {
   "cell_type": "markdown",
   "metadata": {},
   "source": [
    "## Problem 4 (String, Dictionary, List)"
   ]
  },
  {
   "cell_type": "markdown",
   "metadata": {},
   "source": [
    "Sherlock considers a string to be valid if all characters of the string appear the same number of times. It is also valid if he can remove just 1 character at 1 index in the string, and the remaining characters will occur the same number of times. \n",
    "\n",
    "Given a string <code>s</code>, determine if it is valid. If so, return YES, otherwise return NO."
   ]
  },
  {
   "cell_type": "markdown",
   "metadata": {},
   "source": [
    "For example, if <code>s = abc</code>, it is a valid string because frequencies are <code>{'a': 1, 'b': 1, 'c': 1}</code>. So is <code>s = abcc</code> because we can remove one <code>c</code> and have 1 of each character in the remaining string. If <code>s = abccc</code> however, the string is not valid as we can only remove 1 occurrence of <code>c</code>. That would leave character frequencies of <code>{'a': 1, 'b': 1, 'c': 2}.</code>"
   ]
  },
  {
   "cell_type": "markdown",
   "metadata": {},
   "source": [
    "**Requirement**\n",
    "\n",
    "Write a function <code>is_valid</code> with input being a single string <code>s</code> that returns YES if the string is valid and otherwise NO.\n",
    "\n",
    "Note:\n",
    "1. The string will be at least 1 character in length and will be lowercase letters only.\n",
    "2. No need to use advanced packages such as <code>numpy</code> or <code>pandas</code>."
   ]
  },
  {
   "cell_type": "code",
   "execution_count": 7,
   "metadata": {
    "ExecuteTime": {
     "end_time": "2020-01-13T01:58:06.466459Z",
     "start_time": "2020-01-13T01:58:06.456675Z"
    },
    "code_folding": []
   },
   "outputs": [],
   "source": [
    "def is_valid(s):\n",
    "    # char_count = {c: s.count(c) for c in set(s)}\n",
    "    char_count = {}\n",
    "    for c in s:\n",
    "        if c in char_count:\n",
    "            char_count[c] += 1\n",
    "#             char_count.update({c:countnumber})\n",
    "# char_count.get(c, 0)\n",
    "        else:\n",
    "            char_count[c] = 1\n",
    "    count_set = set(char_count.values())\n",
    "    if len(count_set) == 1:\n",
    "        return 'YES'\n",
    "    elif len(count_set) > 2:\n",
    "        return 'NO'\n",
    "    else:\n",
    "        char_count_values_list = list(char_count.values())\n",
    "        min_count = min(char_count_values_list)\n",
    "        max_count = max(char_count_values_list)\n",
    "        if (char_count_values_list.count(min_count) == 1 and min_count == 1) or \\\n",
    "        (char_count_values_list.count(max_count) == 1 and max_count - min_count == 1):\n",
    "            return 'YES'\n",
    "        else:\n",
    "            return 'NO'"
   ]
  },
  {
   "cell_type": "code",
   "execution_count": 21,
   "metadata": {
    "ExecuteTime": {
     "end_time": "2020-01-14T03:32:52.690008Z",
     "start_time": "2020-01-14T03:32:52.682663Z"
    }
   },
   "outputs": [
    {
     "data": {
      "text/plain": [
       "'YES'"
      ]
     },
     "execution_count": 21,
     "metadata": {},
     "output_type": "execute_result"
    }
   ],
   "source": [
    "is_valid('aaabbbcccd')"
   ]
  },
  {
   "cell_type": "code",
   "execution_count": null,
   "metadata": {
    "ExecuteTime": {
     "end_time": "2020-01-14T03:33:31.927746Z",
     "start_time": "2020-01-14T03:33:31.920209Z"
    }
   },
   "outputs": [],
   "source": []
  },
  {
   "cell_type": "markdown",
   "metadata": {},
   "source": [
    "## Problem 5 (Recursion)"
   ]
  },
  {
   "cell_type": "markdown",
   "metadata": {},
   "source": [
    "Find the number of ways that a given integer $X$ can be expressed as the sum of the $N^{th}$ powers of **unique**, natural numbers.\n",
    "\n",
    "For example, if $X=13$ and $N=2$, we have to find all the combinations of unique squares adding up to $13$. The only solution is $2^2+3^2$.\n",
    "\n",
    "As another example, if $X=100$ and $N=2$, we have $100=10^2=6^2+8^2=1^2+3^2+4^2+5^2+7^2$."
   ]
  },
  {
   "cell_type": "markdown",
   "metadata": {},
   "source": [
    "**Requirement**"
   ]
  },
  {
   "cell_type": "markdown",
   "metadata": {},
   "source": [
    "Write a function <code>powerSum</code> that returns an integer that represents the number of possible combinations.\n",
    "\n",
    "Parameters:\n",
    "- X: the integer to sum to. ($1 \\le X \\le1000$)\n",
    "- N: the integer power to raise number to. ($2\\le N\\le10$)"
   ]
  },
  {
   "cell_type": "markdown",
   "metadata": {},
   "source": [
    "*Example*"
   ]
  },
  {
   "cell_type": "markdown",
   "metadata": {},
   "source": [
    "<code>X = 10</code>\n",
    "\n",
    "<code>N = 2</code>\n",
    "\n",
    "<code>powerSum(X, N)</code>\n",
    "\n",
    "output: 1"
   ]
  },
  {
   "cell_type": "code",
   "execution_count": 64,
   "metadata": {
    "ExecuteTime": {
     "end_time": "2020-01-15T00:40:00.138307Z",
     "start_time": "2020-01-15T00:40:00.125647Z"
    },
    "code_folding": []
   },
   "outputs": [],
   "source": [
    "import math\n",
    "\n",
    "_cache_dict = {}\n",
    "\n",
    "def _get_accurate_power_floor(X, N):\n",
    "    \"\"\"This is to solve a precision issue in python where for example 1000**(1/3) = 9.999999999999998,\n",
    "       which can lead to powerSum(1000, 3) -> 0.\n",
    "    \"\"\"\n",
    "    initial_res = math.floor(X ** (1/N))\n",
    "    if (initial_res + 1) ** N > X:\n",
    "        return initial_res\n",
    "    else:\n",
    "        return initial_res + 1\n",
    "\n",
    "def _powerSum(X, N, maxNum):\n",
    "    count = _cache_dict.get((X, N, maxNum))\n",
    "    if count is None:\n",
    "        count = 0\n",
    "        for i in range(1, maxNum+1):\n",
    "            if i ** N == X:\n",
    "                count += 1\n",
    "            else:\n",
    "                count += _powerSum(X-i**N, N, min(i-1, _get_accurate_power_floor((X-i**N), N)))\n",
    "        _cache_dict[(X, N, maxNum)] = count\n",
    "    return count\n",
    "\n",
    "def powerSum(X, N):\n",
    "    res = _powerSum(X, N, _get_accurate_power_floor(X, N))\n",
    "    _cache_dict.clear() # so that the dict won't grow forever\n",
    "    return res"
   ]
  },
  {
   "cell_type": "code",
   "execution_count": null,
   "metadata": {},
   "outputs": [],
   "source": [
    "def fibb(n):\n",
    "    if n >= 2:\n",
    "        return fibb(n-1) + fibb(n-2)\n",
    "    elif n==1 or n==0:\n",
    "        return 1\n",
    "1 1 2 3 5 8 ..."
   ]
  },
  {
   "cell_type": "code",
   "execution_count": 63,
   "metadata": {
    "ExecuteTime": {
     "end_time": "2020-01-15T00:30:51.281251Z",
     "start_time": "2020-01-15T00:30:51.273878Z"
    }
   },
   "outputs": [
    {
     "data": {
      "text/plain": [
       "9.999999999999998"
      ]
     },
     "execution_count": 63,
     "metadata": {},
     "output_type": "execute_result"
    }
   ],
   "source": [
    "1000**(1/3)"
   ]
  },
  {
   "cell_type": "code",
   "execution_count": 10,
   "metadata": {
    "ExecuteTime": {
     "end_time": "2020-01-13T01:58:10.933223Z",
     "start_time": "2020-01-13T01:58:10.925095Z"
    }
   },
   "outputs": [
    {
     "name": "stdout",
     "output_type": "stream",
     "text": [
      "CPU times: user 612 µs, sys: 11 µs, total: 623 µs\n",
      "Wall time: 642 µs\n"
     ]
    },
    {
     "data": {
      "text/plain": [
       "1"
      ]
     },
     "execution_count": 10,
     "metadata": {},
     "output_type": "execute_result"
    }
   ],
   "source": [
    "%%time\n",
    "powerSum(1000, 3)"
   ]
  },
  {
   "cell_type": "code",
   "execution_count": 11,
   "metadata": {
    "ExecuteTime": {
     "end_time": "2020-01-13T01:58:11.371371Z",
     "start_time": "2020-01-13T01:58:11.364317Z"
    }
   },
   "outputs": [
    {
     "data": {
      "text/plain": [
       "9.999999999999998"
      ]
     },
     "execution_count": 11,
     "metadata": {},
     "output_type": "execute_result"
    }
   ],
   "source": [
    "1000 ** (1/3)"
   ]
  },
  {
   "cell_type": "code",
   "execution_count": 29,
   "metadata": {
    "ExecuteTime": {
     "end_time": "2020-01-14T04:07:37.161971Z",
     "start_time": "2020-01-14T04:07:37.155165Z"
    }
   },
   "outputs": [
    {
     "data": {
      "text/plain": [
       "10"
      ]
     },
     "execution_count": 29,
     "metadata": {},
     "output_type": "execute_result"
    }
   ],
   "source": [
    "_get_accurate_power_floor(100, 2)"
   ]
  }
 ],
 "metadata": {
  "kernelspec": {
   "display_name": "Python 3",
   "language": "python",
   "name": "python3"
  },
  "language_info": {
   "codemirror_mode": {
    "name": "ipython",
    "version": 3
   },
   "file_extension": ".py",
   "mimetype": "text/x-python",
   "name": "python",
   "nbconvert_exporter": "python",
   "pygments_lexer": "ipython3",
   "version": "3.7.7"
  },
  "latex_envs": {
   "LaTeX_envs_menu_present": true,
   "autoclose": false,
   "autocomplete": true,
   "bibliofile": "biblio.bib",
   "cite_by": "apalike",
   "current_citInitial": 1,
   "eqLabelWithNumbers": true,
   "eqNumInitial": 1,
   "hotkeys": {
    "equation": "Ctrl-E",
    "itemize": "Ctrl-I"
   },
   "labels_anchors": false,
   "latex_user_defs": false,
   "report_style_numbering": false,
   "user_envs_cfg": false
  },
  "toc": {
   "nav_menu": {},
   "number_sections": true,
   "sideBar": false,
   "skip_h1_title": false,
   "title_cell": "Table of Contents",
   "title_sidebar": "Contents",
   "toc_cell": false,
   "toc_position": {
    "height": "47px",
    "left": "1120.64px",
    "top": "110px",
    "width": "159.359px"
   },
   "toc_section_display": false,
   "toc_window_display": true
  },
  "varInspector": {
   "cols": {
    "lenName": 16,
    "lenType": 16,
    "lenVar": 40
   },
   "kernels_config": {
    "python": {
     "delete_cmd_postfix": "",
     "delete_cmd_prefix": "del ",
     "library": "var_list.py",
     "varRefreshCmd": "print(var_dic_list())"
    },
    "r": {
     "delete_cmd_postfix": ") ",
     "delete_cmd_prefix": "rm(",
     "library": "var_list.r",
     "varRefreshCmd": "cat(var_dic_list()) "
    }
   },
   "types_to_exclude": [
    "module",
    "function",
    "builtin_function_or_method",
    "instance",
    "_Feature"
   ],
   "window_display": false
  }
 },
 "nbformat": 4,
 "nbformat_minor": 2
}
