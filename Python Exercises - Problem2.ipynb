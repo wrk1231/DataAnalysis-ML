{
 "cells": [
  {
   "cell_type": "markdown",
   "metadata": {},
   "source": [
    "# Python Exercises"
   ]
  },
  {
   "cell_type": "markdown",
   "metadata": {},
   "source": [
    "## Problem 1 (List, Set, Iteration, Operators)"
   ]
  },
  {
   "cell_type": "markdown",
   "metadata": {},
   "source": [
    "John works at a clothing store. He has a large pile of socks that he must pair by color for sale. Given an array of integers representing the color of each sock, determine how many pairs of socks with matching colors there are."
   ]
  },
  {
   "cell_type": "markdown",
   "metadata": {},
   "source": [
    "**Requirement**"
   ]
  },
  {
   "cell_type": "markdown",
   "metadata": {},
   "source": [
    "Write a <code>sockMerchant</code> function which must return an integer representing the number of matching pairs of socks that are available."
   ]
  },
  {
   "cell_type": "markdown",
   "metadata": {},
   "source": [
    "<code>sockMerchant</code> has the following parameter(s):\n",
    "- n: the number of socks in the pile (integers from 1 to 100)\n",
    "- ar: the colors of each sock (represented as integers from 1 to 100)"
   ]
  },
  {
   "cell_type": "markdown",
   "metadata": {},
   "source": [
    "*Example*"
   ]
  },
  {
   "cell_type": "markdown",
   "metadata": {},
   "source": [
    "<code>ar = [10, 20, 20, 10, 10, 30, 50, 10, 20]</code>\n",
    "\n",
    "<code>sockMerchant(ar)</code>\n",
    "\n",
    "output: 3"
   ]
  },
  {
   "cell_type": "markdown",
   "metadata": {},
   "source": [
    "## Problem 2 (String, Iteration, Conditions)"
   ]
  },
  {
   "cell_type": "markdown",
   "metadata": {},
   "source": [
    "Gary is an avid hiker. He tracks his hikes meticulously, paying close attention to small details like topography. During his last hike he took exactly <code>n</code> steps. For every step he took, he noted if it was an uphill,<code>U</code> , or a downhill, <code>D</code> step. Gary's hikes start and end at sea level and each step up or down represents a <code>1</code> unit change in altitude. We define the following term:\n",
    "- A valley is a sequence of consecutive steps below sea level, starting with a step down from sea level and ending with a step up to sea level."
   ]
  },
  {
   "cell_type": "markdown",
   "metadata": {},
   "source": [
    "**Requirement**"
   ]
  },
  {
   "cell_type": "markdown",
   "metadata": {},
   "source": [
    "Given Gary's sequence of up and down steps during his last hike, find and print the number of valleys he walked through by writing a <code>countingValleys</code> function."
   ]
  },
  {
   "cell_type": "markdown",
   "metadata": {},
   "source": [
    "Parameter:\n",
    "- s: a string of n characters that describe his path."
   ]
  },
  {
   "cell_type": "markdown",
   "metadata": {},
   "source": [
    "*Example*"
   ]
  },
  {
   "cell_type": "markdown",
   "metadata": {},
   "source": [
    "<code>s = 'UDDDUDUU'</code>\n",
    "\n",
    "<code>countingValleys(s)</code>\n",
    "\n",
    "output: 1"
   ]
  },
  {
   "cell_type": "markdown",
   "metadata": {},
   "source": [
    "## Problem 3 (Loop, Conditions)"
   ]
  },
  {
   "cell_type": "markdown",
   "metadata": {},
   "source": [
    "Emma is playing a new mobile game that starts with consecutively numbered clouds. Some of the clouds are **thunderheads** and others are **cumulus**. She can jump on any cumulus cloud having a number that is equal to the number of the current cloud plus $1$ or $2$. She must avoid the thunderheads. Determine the minimum number of jumps it will take Emma to jump from her starting postion to the last cloud. **It is always possible to win the game.**\n",
    "\n",
    "For each game, Emma will get an array of clouds numbered $0$ if they are safe or $1$ if they must be avoided. For example, <code>c=[0,1,0,0,0,1,0]</code> indexed from $0\\dots6$. The number on each cloud is its index in the list so she must avoid the clouds at indexes $1$ and $5$. She could follow the following two paths: $0\\rightarrow2\\rightarrow4\\rightarrow6$ or $0\\rightarrow2\\rightarrow3\\rightarrow4\\rightarrow6$. The first path takes $3$ jumps while the second takes $4$."
   ]
  },
  {
   "cell_type": "markdown",
   "metadata": {},
   "source": [
    "**Requirement**"
   ]
  },
  {
   "cell_type": "markdown",
   "metadata": {},
   "source": [
    "Write a <code>jumpingOnClouds(c)</code> function which returns the **minimum** number of jumps required, as an integer.\n",
    "\n",
    "Parameter:\n",
    "- c: an array of binary integers"
   ]
  },
  {
   "cell_type": "markdown",
   "metadata": {},
   "source": [
    "*Example*"
   ]
  },
  {
   "cell_type": "markdown",
   "metadata": {},
   "source": [
    "<code>c = [0, 0, 1, 0, 0, 1, 0]</code>\n",
    "\n",
    "<code>jumpingOnClouds(c)</code>\n",
    "\n",
    "output: 4"
   ]
  },
  {
   "cell_type": "markdown",
   "metadata": {},
   "source": [
    "## Problem 4 (String, Dictionary, List)"
   ]
  },
  {
   "cell_type": "markdown",
   "metadata": {},
   "source": [
    "Sherlock considers a string to be valid if all characters of the string appear the same number of times. It is also valid if he can remove just 1 character at 1 index in the string, and the remaining characters will occur the same number of times. \n",
    "\n",
    "Given a string <code>s</code>, determine if it is valid. If so, return YES, otherwise return NO."
   ]
  },
  {
   "cell_type": "markdown",
   "metadata": {},
   "source": [
    "For example, if <code>s = abc</code>, it is a valid string because frequencies are <code>{'a': 1, 'b': 1, 'c': 1}</code>. So is <code>s = abcc</code> because we can remove one <code>c</code> and have 1 of each character in the remaining string. If <code>s = abccc</code> however, the string is not valid as we can only remove 1 occurrence of <code>c</code>. That would leave character frequencies of <code>{'a': 1, 'b': 1, 'c': 2}.</code>"
   ]
  },
  {
   "cell_type": "markdown",
   "metadata": {},
   "source": [
    "**Requirement**\n",
    "\n",
    "Write a function <code>is_valid</code> with input being a single string <code>s</code> that returns YES if the string is valid and otherwise NO.\n",
    "\n",
    "Note:\n",
    "1. The string will be at least 1 character in length and will be lowercase letters only.\n",
    "2. No need to use advanced packages such as <code>numpy</code> or <code>pandas</code>."
   ]
  },
  {
   "cell_type": "markdown",
   "metadata": {},
   "source": [
    "## Problem 5 (Recursion)"
   ]
  },
  {
   "cell_type": "markdown",
   "metadata": {},
   "source": [
    "Find the number of ways that a given integer $X$ can be expressed as the sum of the $N^{th}$ powers of **unique**, natural numbers.\n",
    "\n",
    "For example, if $X=13$ and $N=2$, we have to find all the combinations of unique squares adding up to $13$. The only solution is $2^2+3^2$.\n",
    "\n",
    "As another example, if $X=100$ and $N=2$, we have $100=10^2=6^2+8^2=1^2+3^2+4^2+5^2+7^2$."
   ]
  },
  {
   "cell_type": "markdown",
   "metadata": {},
   "source": [
    "**Requirement**"
   ]
  },
  {
   "cell_type": "markdown",
   "metadata": {},
   "source": [
    "Write a function <code>powerSum</code> that returns an integer that represents the number of possible combinations.\n",
    "\n",
    "Parameters:\n",
    "- X: the integer to sum to. ($1 \\le X \\le1000$)\n",
    "- N: the integer power to raise number to. ($2\\le N\\le10$)"
   ]
  },
  {
   "cell_type": "markdown",
   "metadata": {},
   "source": [
    "*Example*"
   ]
  },
  {
   "cell_type": "markdown",
   "metadata": {},
   "source": [
    "<code>X = 10</code>\n",
    "\n",
    "<code>N = 2</code>\n",
    "\n",
    "<code>powerSum(X, N)</code>\n",
    "\n",
    "output: 1"
   ]
  },
  {
   "cell_type": "markdown",
   "metadata": {},
   "source": [
    "## *Problem 6 (Regression with numpy)      [optional question]"
   ]
  },
  {
   "cell_type": "markdown",
   "metadata": {},
   "source": [
    "Linear Regression is the model to describe linear relationship between two datasets, for $X$ and $Y$ with length N, we need to estimate $Y_i = m + bX_i + e_i$, try to minimize $\\Sigma_{i=1}^{N}e_i^2$, can you try to implement different algorithms in sklearn/numpy for this univariable regression? Using x and y below as example."
   ]
  }
 ],
 "metadata": {
  "kernelspec": {
   "display_name": "Python 3",
   "language": "python",
   "name": "python3"
  },
  "language_info": {
   "codemirror_mode": {
    "name": "ipython",
    "version": 3
   },
   "file_extension": ".py",
   "mimetype": "text/x-python",
   "name": "python",
   "nbconvert_exporter": "python",
   "pygments_lexer": "ipython3",
   "version": "3.7.7"
  },
  "latex_envs": {
   "LaTeX_envs_menu_present": true,
   "autoclose": false,
   "autocomplete": true,
   "bibliofile": "biblio.bib",
   "cite_by": "apalike",
   "current_citInitial": 1,
   "eqLabelWithNumbers": true,
   "eqNumInitial": 1,
   "hotkeys": {
    "equation": "Ctrl-E",
    "itemize": "Ctrl-I"
   },
   "labels_anchors": false,
   "latex_user_defs": false,
   "report_style_numbering": false,
   "user_envs_cfg": false
  },
  "toc": {
   "nav_menu": {},
   "number_sections": true,
   "sideBar": false,
   "skip_h1_title": false,
   "title_cell": "Table of Contents",
   "title_sidebar": "Contents",
   "toc_cell": false,
   "toc_position": {
    "height": "47px",
    "left": "1120.64px",
    "top": "110px",
    "width": "159.359px"
   },
   "toc_section_display": false,
   "toc_window_display": true
  },
  "varInspector": {
   "cols": {
    "lenName": 16,
    "lenType": 16,
    "lenVar": 40
   },
   "kernels_config": {
    "python": {
     "delete_cmd_postfix": "",
     "delete_cmd_prefix": "del ",
     "library": "var_list.py",
     "varRefreshCmd": "print(var_dic_list())"
    },
    "r": {
     "delete_cmd_postfix": ") ",
     "delete_cmd_prefix": "rm(",
     "library": "var_list.r",
     "varRefreshCmd": "cat(var_dic_list()) "
    }
   },
   "types_to_exclude": [
    "module",
    "function",
    "builtin_function_or_method",
    "instance",
    "_Feature"
   ],
   "window_display": false
  }
 },
 "nbformat": 4,
 "nbformat_minor": 2
}
