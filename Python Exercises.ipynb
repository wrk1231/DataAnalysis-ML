{
 "cells": [
  {
   "cell_type": "markdown",
   "metadata": {},
   "source": [
    "# Python Exercises"
   ]
  },
  {
   "cell_type": "markdown",
   "metadata": {},
   "source": [
    "As mentioned in **Python 101**, the best way to learn programming is to '*Practice! Practice! Practice!*'. Now let's put our knowledge into practice."
   ]
  },
  {
   "cell_type": "code",
   "execution_count": 40,
   "metadata": {
    "ExecuteTime": {
     "end_time": "2020-03-09T00:35:11.816774Z",
     "start_time": "2020-03-09T00:35:11.812273Z"
    }
   },
   "outputs": [],
   "source": [
    "import pandas as pd\n",
    "import numpy as np"
   ]
  },
  {
   "cell_type": "code",
   "execution_count": 50,
   "metadata": {
    "ExecuteTime": {
     "end_time": "2020-03-09T00:38:25.430546Z",
     "start_time": "2020-03-09T00:38:25.422286Z"
    }
   },
   "outputs": [
    {
     "data": {
      "text/plain": [
       "a    1\n",
       "b    2\n",
       "c    3\n",
       "d    4\n",
       "dtype: int64"
      ]
     },
     "execution_count": 50,
     "metadata": {},
     "output_type": "execute_result"
    }
   ],
   "source": [
    "se = pd.Series({'a':1,'b':2, 'c':3, 'd':4})\n",
    "se"
   ]
  },
  {
   "cell_type": "code",
   "execution_count": 55,
   "metadata": {
    "ExecuteTime": {
     "end_time": "2020-03-09T00:39:35.114203Z",
     "start_time": "2020-03-09T00:39:35.106803Z"
    }
   },
   "outputs": [
    {
     "data": {
      "text/plain": [
       "a     True\n",
       "b    False\n",
       "c     True\n",
       "d    False\n",
       "dtype: bool"
      ]
     },
     "execution_count": 55,
     "metadata": {},
     "output_type": "execute_result"
    }
   ],
   "source": [
    "se %2 == 1"
   ]
  },
  {
   "cell_type": "code",
   "execution_count": 61,
   "metadata": {
    "ExecuteTime": {
     "end_time": "2020-03-09T00:41:25.109885Z",
     "start_time": "2020-03-09T00:41:25.101889Z"
    }
   },
   "outputs": [
    {
     "data": {
      "text/plain": [
       "True"
      ]
     },
     "execution_count": 61,
     "metadata": {},
     "output_type": "execute_result"
    }
   ],
   "source": [
    "True in (se %2 == 1).values"
   ]
  },
  {
   "cell_type": "markdown",
   "metadata": {},
   "source": [
    "## Problem 1 (List, Set, Iteration, Operators)"
   ]
  },
  {
   "cell_type": "markdown",
   "metadata": {},
   "source": [
    "John works at a clothing store. He has a large pile of socks that he must pair by color for sale. Given an array of integers representing the color of each sock, determine how many pairs of socks with matching colors there are."
   ]
  },
  {
   "cell_type": "markdown",
   "metadata": {},
   "source": [
    "**Requirement**"
   ]
  },
  {
   "cell_type": "markdown",
   "metadata": {},
   "source": [
    "Write a <code>sockMerchant</code> function which must return an integer representing the number of matching pairs of socks that are available."
   ]
  },
  {
   "cell_type": "markdown",
   "metadata": {},
   "source": [
    "<code>sockMerchant</code> has the following parameter(s):\n",
    "- n: the number of socks in the pile (integers from 1 to 100)\n",
    "- ar: the colors of each sock (represented as integers from 1 to 100)"
   ]
  },
  {
   "cell_type": "markdown",
   "metadata": {},
   "source": [
    "*Example*"
   ]
  },
  {
   "cell_type": "markdown",
   "metadata": {},
   "source": [
    "<code>ar = [10, 20, 20, 10, 10, 30, 50, 10, 20]</code>\n",
    "\n",
    "<code>sockMerchant(ar)</code>\n",
    "\n",
    "output: 3"
   ]
  },
  {
   "cell_type": "code",
   "execution_count": 62,
   "metadata": {
    "ExecuteTime": {
     "end_time": "2020-03-09T00:49:05.571374Z",
     "start_time": "2020-03-09T00:49:05.565087Z"
    },
    "code_folding": []
   },
   "outputs": [],
   "source": [
    "def sockMerchant(ar):\n",
    "    colors = set(ar)\n",
    "    pairs = 0\n",
    "    for color  in colors:\n",
    "        pairs += ar.count(color) // 2\n",
    "    return pairs"
   ]
  },
  {
   "cell_type": "code",
   "execution_count": 64,
   "metadata": {
    "ExecuteTime": {
     "end_time": "2020-03-09T00:49:29.316175Z",
     "start_time": "2020-03-09T00:49:29.309301Z"
    }
   },
   "outputs": [
    {
     "data": {
      "text/plain": [
       "{10, 20, 30, 50}"
      ]
     },
     "execution_count": 64,
     "metadata": {},
     "output_type": "execute_result"
    }
   ],
   "source": [
    "set([10, 20, 20, 10, 10, 30, 50, 10, 20])"
   ]
  },
  {
   "cell_type": "code",
   "execution_count": 65,
   "metadata": {
    "ExecuteTime": {
     "end_time": "2020-03-09T00:49:29.951156Z",
     "start_time": "2020-03-09T00:49:29.932774Z"
    }
   },
   "outputs": [
    {
     "data": {
      "text/plain": [
       "2"
      ]
     },
     "execution_count": 65,
     "metadata": {},
     "output_type": "execute_result"
    }
   ],
   "source": [
    "ar = [10, 20, 20, 10, 10, 30, 50]\n",
    "sockMerchant(ar)"
   ]
  },
  {
   "cell_type": "markdown",
   "metadata": {},
   "source": [
    "## Problem 2 (String, Iteration, Conditions)"
   ]
  },
  {
   "cell_type": "markdown",
   "metadata": {},
   "source": [
    "Gary is an avid hiker. He tracks his hikes meticulously, paying close attention to small details like topography. During his last hike he took exactly <code>n</code> steps. For every step he took, he noted if it was an uphill,<code>U</code> , or a downhill, <code>D</code> step. Gary's hikes start and end at sea level and each step up or down represents a <code>1</code> unit change in altitude. We define the following term:\n",
    "- A valley is a sequence of consecutive steps below sea level, starting with a step down from sea level and ending with a step up to sea level."
   ]
  },
  {
   "cell_type": "markdown",
   "metadata": {},
   "source": [
    "**Requirement**"
   ]
  },
  {
   "cell_type": "markdown",
   "metadata": {},
   "source": [
    "Given Gary's sequence of up and down steps during his last hike, find and print the number of valleys he walked through by writing a <code>countingValleys</code> function."
   ]
  },
  {
   "cell_type": "markdown",
   "metadata": {},
   "source": [
    "Parameter:\n",
    "- s: a string of n characters that describe his path."
   ]
  },
  {
   "cell_type": "markdown",
   "metadata": {},
   "source": [
    "*Example*"
   ]
  },
  {
   "cell_type": "markdown",
   "metadata": {},
   "source": [
    "<code>s = 'UDDDUDUU'</code>\n",
    "\n",
    "<code>countingValleys(s)</code>\n",
    "\n",
    "output: 1"
   ]
  },
  {
   "cell_type": "code",
   "execution_count": 66,
   "metadata": {
    "ExecuteTime": {
     "end_time": "2020-03-09T00:53:09.132574Z",
     "start_time": "2020-03-09T00:53:09.126393Z"
    },
    "code_folding": []
   },
   "outputs": [],
   "source": [
    "def countingValleys(s):\n",
    "    level = 0\n",
    "    valleys = 0\n",
    "    for ch in s:\n",
    "        prevLevel = level\n",
    "        level += (1 if ch == 'U' else -1)\n",
    "        if level == -1 and prevLevel == 0:\n",
    "            valleys += 1\n",
    "            \n",
    "    return valleys"
   ]
  },
  {
   "cell_type": "code",
   "execution_count": 68,
   "metadata": {
    "ExecuteTime": {
     "end_time": "2020-03-09T00:53:47.295294Z",
     "start_time": "2020-03-09T00:53:47.285605Z"
    }
   },
   "outputs": [
    {
     "data": {
      "text/plain": [
       "3"
      ]
     },
     "execution_count": 68,
     "metadata": {},
     "output_type": "execute_result"
    }
   ],
   "source": [
    "s = 'UDDDUDUUDUUUDDDUU'\n",
    "countingValleys(s)"
   ]
  },
  {
   "cell_type": "markdown",
   "metadata": {},
   "source": [
    "## Problem 3 (Loop, Conditions)"
   ]
  },
  {
   "cell_type": "markdown",
   "metadata": {},
   "source": [
    "Emma is playing a new mobile game that starts with consecutively numbered clouds. Some of the clouds are **thunderheads** and others are **cumulus**. She can jump on any cumulus cloud having a number that is equal to the number of the current cloud plus $1$ or $2$. She must avoid the thunderheads. Determine the minimum number of jumps it will take Emma to jump from her starting postion to the last cloud. **It is always possible to win the game.**\n",
    "\n",
    "For each game, Emma will get an array of clouds numbered $0$ if they are safe or $1$ if they must be avoided. For example, <code>c=[0,1,0,0,0,1,0]</code> indexed from $0\\dots6$. The number on each cloud is its index in the list so she must avoid the clouds at indexes $1$ and $5$. She could follow the following two paths: $0\\rightarrow2\\rightarrow4\\rightarrow6$ or $0\\rightarrow2\\rightarrow3\\rightarrow4\\rightarrow6$. The first path takes $3$ jumps while the second takes $4$."
   ]
  },
  {
   "cell_type": "markdown",
   "metadata": {},
   "source": [
    "**Requirement**"
   ]
  },
  {
   "cell_type": "markdown",
   "metadata": {},
   "source": [
    "Write a <code>jumpingOnClouds(c)</code> function which returns the **minimum** number of jumps required, as an integer.\n",
    "\n",
    "Parameter:\n",
    "- c: an array of binary integers"
   ]
  },
  {
   "cell_type": "markdown",
   "metadata": {},
   "source": [
    "*Example*"
   ]
  },
  {
   "cell_type": "markdown",
   "metadata": {},
   "source": [
    "<code>c = [0, 0, 1, 0, 0, 1, 0]</code>\n",
    "\n",
    "<code>jumpingOnClouds(c)</code>\n",
    "\n",
    "output: 4"
   ]
  },
  {
   "cell_type": "code",
   "execution_count": 75,
   "metadata": {
    "ExecuteTime": {
     "end_time": "2020-03-09T00:58:49.010190Z",
     "start_time": "2020-03-09T00:58:49.003192Z"
    },
    "code_folding": []
   },
   "outputs": [],
   "source": [
    "def jumpingOnClouds(c):\n",
    "    jumps = 0\n",
    "    position = 0\n",
    "    while position < len(c) - 1:\n",
    "        if position == len(c) - 2:\n",
    "            jumps += 1\n",
    "            break\n",
    "        if c[position + 2] == 0:\n",
    "            jumps += 1\n",
    "            position += 2\n",
    "        else:\n",
    "            jumps += 1\n",
    "            position += 1\n",
    "    \n",
    "    return jumps"
   ]
  },
  {
   "cell_type": "code",
   "execution_count": 76,
   "metadata": {
    "ExecuteTime": {
     "end_time": "2020-03-09T00:58:49.676182Z",
     "start_time": "2020-03-09T00:58:49.664246Z"
    }
   },
   "outputs": [
    {
     "data": {
      "text/plain": [
       "7"
      ]
     },
     "execution_count": 76,
     "metadata": {},
     "output_type": "execute_result"
    }
   ],
   "source": [
    "c = [0, 0, 1, 0, 0, 1, 0, 0, 0, 0, 1, 0]\n",
    "jumpingOnClouds(c)"
   ]
  },
  {
   "cell_type": "markdown",
   "metadata": {},
   "source": [
    "## Problem 4 (String, Dictionary, List)"
   ]
  },
  {
   "cell_type": "markdown",
   "metadata": {},
   "source": [
    "Sherlock considers a string to be valid if all characters of the string appear the same number of times. It is also valid if he can remove just 1 character at 1 index in the string, and the remaining characters will occur the same number of times. \n",
    "\n",
    "Given a string <code>s</code>, determine if it is valid. If so, return YES, otherwise return NO."
   ]
  },
  {
   "cell_type": "markdown",
   "metadata": {},
   "source": [
    "For example, if <code>s = abc</code>, it is a valid string because frequencies are <code>{'a': 1, 'b': 1, 'c': 1}</code>. So is <code>s = abcc</code> because we can remove one <code>c</code> and have 1 of each character in the remaining string. If <code>s = abccc</code> however, the string is not valid as we can only remove 1 occurrence of <code>c</code>. That would leave character frequencies of <code>{'a': 1, 'b': 1, 'c': 2}.</code>"
   ]
  },
  {
   "cell_type": "markdown",
   "metadata": {},
   "source": [
    "**Requirement**\n",
    "\n",
    "Write a function <code>is_valid</code> with input being a single string <code>s</code> that returns YES if the string is valid and otherwise NO.\n",
    "\n",
    "Note:\n",
    "1. The string will be at least 1 character in length and will be lowercase letters only.\n",
    "2. No need to use advanced packages such as <code>numpy</code> or <code>pandas</code>."
   ]
  },
  {
   "cell_type": "code",
   "execution_count": 8,
   "metadata": {
    "ExecuteTime": {
     "end_time": "2020-03-09T00:04:39.782428Z",
     "start_time": "2020-03-09T00:04:39.775523Z"
    },
    "code_folding": []
   },
   "outputs": [],
   "source": [
    "def is_valid(s):\n",
    "    # char_count = {c: s.count(c) for c in set(s)}\n",
    "    char_count = {}\n",
    "    for c in s:\n",
    "        if c in char_count:\n",
    "            char_count[c] += 1\n",
    "#             char_count.update({c:countnumber})\n",
    "# char_count.get(c, 0)\n",
    "        else:\n",
    "            char_count[c] = 1\n",
    "    count_set = set(char_count.values())\n",
    "    if len(count_set) == 1:\n",
    "        return 'YES'\n",
    "    elif len(count_set) > 2:\n",
    "        return 'NO'\n",
    "    else:\n",
    "        char_count_values_list = list(char_count.values())\n",
    "        min_count = min(char_count_values_list)\n",
    "        max_count = max(char_count_values_list)\n",
    "        if (char_count_values_list.count(min_count) == 1 and min_count == 1) or \\\n",
    "        (char_count_values_list.count(max_count) == 1 and max_count - min_count == 1):\n",
    "            return 'YES'\n",
    "        else:\n",
    "            return 'NO'"
   ]
  },
  {
   "cell_type": "code",
   "execution_count": 9,
   "metadata": {
    "ExecuteTime": {
     "end_time": "2020-03-09T00:04:40.047298Z",
     "start_time": "2020-03-09T00:04:40.038580Z"
    }
   },
   "outputs": [
    {
     "data": {
      "text/plain": [
       "'YES'"
      ]
     },
     "execution_count": 9,
     "metadata": {},
     "output_type": "execute_result"
    }
   ],
   "source": [
    "is_valid('aaabbbcccd')"
   ]
  },
  {
   "cell_type": "code",
   "execution_count": null,
   "metadata": {
    "ExecuteTime": {
     "end_time": "2020-01-14T03:33:31.927746Z",
     "start_time": "2020-01-14T03:33:31.920209Z"
    }
   },
   "outputs": [],
   "source": []
  },
  {
   "cell_type": "markdown",
   "metadata": {},
   "source": [
    "## Problem 5 (Recursion)"
   ]
  },
  {
   "cell_type": "markdown",
   "metadata": {},
   "source": [
    "Find the number of ways that a given integer $X$ can be expressed as the sum of the $N^{th}$ powers of **unique**, natural numbers.\n",
    "\n",
    "For example, if $X=13$ and $N=2$, we have to find all the combinations of unique squares adding up to $13$. The only solution is $2^2+3^2$.\n",
    "\n",
    "As another example, if $X=100$ and $N=2$, we have $100=10^2=6^2+8^2=1^2+3^2+4^2+5^2+7^2$."
   ]
  },
  {
   "cell_type": "markdown",
   "metadata": {},
   "source": [
    "**Requirement**"
   ]
  },
  {
   "cell_type": "markdown",
   "metadata": {},
   "source": [
    "Write a function <code>powerSum</code> that returns an integer that represents the number of possible combinations.\n",
    "\n",
    "Parameters:\n",
    "- X: the integer to sum to. ($1 \\le X \\le1000$)\n",
    "- N: the integer power to raise number to. ($2\\le N\\le10$)"
   ]
  },
  {
   "cell_type": "markdown",
   "metadata": {},
   "source": [
    "*Example*"
   ]
  },
  {
   "cell_type": "markdown",
   "metadata": {},
   "source": [
    "<code>X = 10</code>\n",
    "\n",
    "<code>N = 2</code>\n",
    "\n",
    "<code>powerSum(X, N)</code>\n",
    "\n",
    "output: 1"
   ]
  },
  {
   "cell_type": "code",
   "execution_count": 10,
   "metadata": {
    "ExecuteTime": {
     "end_time": "2020-03-09T00:04:42.902336Z",
     "start_time": "2020-03-09T00:04:42.893993Z"
    },
    "code_folding": [
     4
    ]
   },
   "outputs": [],
   "source": [
    "import math\n",
    "##private\n",
    "_cache_dict = {}\n",
    "## private\n",
    "def _get_accurate_power_floor(X, N):\n",
    "    \"\"\"This is to solve a precision issue in python where for example 1000**(1/3) = 9.999999999999998,\n",
    "       which can lead to powerSum(1000, 3) -> 0.\n",
    "    \"\"\"\n",
    "    initial_res = math.floor(X ** (1/N))\n",
    "    if (initial_res + 1) ** N > X:\n",
    "        return initial_res\n",
    "    else:\n",
    "        return initial_res + 1\n",
    "## private\n",
    "def _powerSum(X, N, maxNum):\n",
    "    count = _cache_dict.get((X, N, maxNum))\n",
    "    if count is None:\n",
    "        count = 0\n",
    "        for i in range(1, maxNum+1):\n",
    "            if i ** N == X:\n",
    "                count += 1\n",
    "            else:\n",
    "                count += _powerSum(X-i**N, N, min(i-1, _get_accurate_power_floor((X-i**N), N)))\n",
    "        _cache_dict[(X, N, maxNum)] = count\n",
    "    return count\n",
    "\n",
    "def powerSum(X, N):\n",
    "    res = _powerSum(X, N, _get_accurate_power_floor(X, N))\n",
    "    _cache_dict.clear() # so that the dict won't grow forever\n",
    "    return res"
   ]
  },
  {
   "cell_type": "code",
   "execution_count": 77,
   "metadata": {
    "ExecuteTime": {
     "end_time": "2020-03-09T01:08:18.884075Z",
     "start_time": "2020-03-09T01:08:18.878787Z"
    }
   },
   "outputs": [],
   "source": [
    "def fibb(n):\n",
    "    if n >= 2:\n",
    "        return fibb(n-1) + fibb(n-2)\n",
    "    elif n==1 or n==0:\n",
    "        return 1\n",
    "## 1 1 2 3 5 8 ... "
   ]
  },
  {
   "cell_type": "code",
   "execution_count": 80,
   "metadata": {
    "ExecuteTime": {
     "end_time": "2020-03-09T01:21:58.424980Z",
     "start_time": "2020-03-09T01:21:58.418000Z"
    }
   },
   "outputs": [
    {
     "data": {
      "text/plain": [
       "9.999999999999998"
      ]
     },
     "execution_count": 80,
     "metadata": {},
     "output_type": "execute_result"
    }
   ],
   "source": [
    "1000**(1/3)"
   ]
  },
  {
   "cell_type": "code",
   "execution_count": 82,
   "metadata": {
    "ExecuteTime": {
     "end_time": "2020-03-09T01:22:16.840363Z",
     "start_time": "2020-03-09T01:22:16.828364Z"
    }
   },
   "outputs": [
    {
     "data": {
      "text/plain": [
       "1"
      ]
     },
     "execution_count": 82,
     "metadata": {},
     "output_type": "execute_result"
    }
   ],
   "source": [
    "powerSum(1000, 3)"
   ]
  },
  {
   "cell_type": "code",
   "execution_count": 16,
   "metadata": {
    "ExecuteTime": {
     "end_time": "2020-03-09T00:04:52.504318Z",
     "start_time": "2020-03-09T00:04:52.484666Z"
    }
   },
   "outputs": [
    {
     "data": {
      "text/plain": [
       "9.999999999999998"
      ]
     },
     "execution_count": 16,
     "metadata": {},
     "output_type": "execute_result"
    }
   ],
   "source": [
    "1000 ** (1/3)"
   ]
  },
  {
   "cell_type": "code",
   "execution_count": 84,
   "metadata": {
    "ExecuteTime": {
     "end_time": "2020-03-09T01:22:30.093224Z",
     "start_time": "2020-03-09T01:22:30.080677Z"
    }
   },
   "outputs": [
    {
     "data": {
      "text/plain": [
       "10"
      ]
     },
     "execution_count": 84,
     "metadata": {},
     "output_type": "execute_result"
    }
   ],
   "source": [
    "_get_accurate_power_floor(1000, 3)"
   ]
  },
  {
   "cell_type": "markdown",
   "metadata": {},
   "source": [
    "## Problem 6 (Regression with numpy)      "
   ]
  },
  {
   "cell_type": "markdown",
   "metadata": {},
   "source": [
    "Linear Regression is the model to describe linear relationship between two datasets, for $X$ and $Y$ with length N, we need to estimate $Y_i = m + bX_i + e_i$, try to minimize $\\Sigma_{i=1}^{N}e_i^2$, can you try to implement an algorithm in numpy for this univariable regression? "
   ]
  },
  {
   "cell_type": "code",
   "execution_count": 85,
   "metadata": {
    "ExecuteTime": {
     "end_time": "2020-03-09T01:24:22.051539Z",
     "start_time": "2020-03-09T01:24:22.047043Z"
    }
   },
   "outputs": [],
   "source": [
    "import numpy as np\n",
    "import pandas as pd\n",
    "import sklearn\n",
    "\n",
    "import matplotlib.pyplot as plt"
   ]
  },
  {
   "cell_type": "code",
   "execution_count": 87,
   "metadata": {
    "ExecuteTime": {
     "end_time": "2020-03-09T01:26:41.242167Z",
     "start_time": "2020-03-09T01:26:41.065451Z"
    }
   },
   "outputs": [
    {
     "data": {
      "text/plain": [
       "<matplotlib.collections.PathCollection at 0x1a23d597b8>"
      ]
     },
     "execution_count": 87,
     "metadata": {},
     "output_type": "execute_result"
    },
    {
     "data": {
      "image/png": "[encoded data removed]",
      "text/plain": [
       "<Figure size 432x288 with 1 Axes>"
      ]
     },
     "metadata": {
      "needs_background": "light"
     },
     "output_type": "display_data"
    }
   ],
   "source": [
    "rs = np.random.RandomState(42)\n",
    "\n",
    "x = 10 * rs.rand(200)\n",
    "y = -7 + 2*x + 0.3*rs.randn(200)\n",
    "plt.scatter(x,y)"
   ]
  },
  {
   "cell_type": "code",
   "execution_count": 93,
   "metadata": {
    "ExecuteTime": {
     "end_time": "2020-03-09T01:28:04.655471Z",
     "start_time": "2020-03-09T01:28:04.649930Z"
    }
   },
   "outputs": [],
   "source": [
    "X = x.reshape((len(x), -1))\n",
    "X;\n",
    "y;"
   ]
  },
  {
   "cell_type": "markdown",
   "metadata": {},
   "source": [
    "##### Using Sklearn models"
   ]
  },
  {
   "cell_type": "code",
   "execution_count": 94,
   "metadata": {
    "ExecuteTime": {
     "end_time": "2020-03-09T01:28:39.680296Z",
     "start_time": "2020-03-09T01:28:39.673626Z"
    }
   },
   "outputs": [
    {
     "name": "stdout",
     "output_type": "stream",
     "text": [
      "1.9976578679547503 -6.9684396547117515\n"
     ]
    }
   ],
   "source": [
    "from sklearn.linear_model import LinearRegression\n",
    "model_LR = LinearRegression(fit_intercept=True)\n",
    "X = x.reshape((len(x), -1))\n",
    "model_LR.fit(X,y)\n",
    "print(model_LR.coef_[0], model_LR.intercept_)"
   ]
  },
  {
   "cell_type": "code",
   "execution_count": 21,
   "metadata": {
    "ExecuteTime": {
     "end_time": "2020-03-09T00:05:00.797123Z",
     "start_time": "2020-03-09T00:05:00.792150Z"
    }
   },
   "outputs": [],
   "source": [
    "## Error/Loss function\n",
    "from numpy import *\n",
    "# y = mx + b\n",
    "# m is slope, b is y-intercept\n",
    "## ADAM\n",
    "## convex opt\n",
    "def error(b, m, points): ## error = f(b,m) partial(f)/ partial(b)\n",
    "    totalError = 0\n",
    "    for i in range(0, len(points)):\n",
    "        x = points[i, 0]\n",
    "        y = points[i, 1]\n",
    "        totalError += (y - (m * x + b)) ** 2\n",
    "    return totalError / float(len(points))"
   ]
  },
  {
   "cell_type": "markdown",
   "metadata": {},
   "source": [
    "$$ X\\beta = y$$\n",
    "\n",
    "$$\\hat{\\beta} = argmin _{\\beta}S(\\beta)$$\n",
    "Solution:\n",
    "$$\\hat{\\beta} = (X^TX)^{-1}X^Ty$$"
   ]
  },
  {
   "cell_type": "code",
   "execution_count": 98,
   "metadata": {
    "ExecuteTime": {
     "end_time": "2020-03-09T01:45:15.164503Z",
     "start_time": "2020-03-09T01:45:15.148148Z"
    }
   },
   "outputs": [
    {
     "name": "stdout",
     "output_type": "stream",
     "text": [
      "1.997657867954749 -6.968439654711745\n"
     ]
    },
    {
     "data": {
      "text/plain": [
       "0.08404435807118818"
      ]
     },
     "execution_count": 98,
     "metadata": {},
     "output_type": "execute_result"
    }
   ],
   "source": [
    "def regular_function(points):\n",
    "    ## how to vectorize this function?\n",
    "    N = float(len(points))\n",
    "    Sx = 0\n",
    "    Sy = 0\n",
    "    Sxx = 0\n",
    "    Sxy = 0\n",
    "    for i in range(0, len(points)):\n",
    "        x = points[i, 0]\n",
    "        y = points[i, 1]\n",
    "        Sx += 1/N*x\n",
    "        Sy += 1/N*y\n",
    "        Sxy += 1/N*x*y\n",
    "        Sxx += 1/N*x*x\n",
    "    \n",
    "    M,q = matrix([[Sx, 1],[Sxx, Sx]]), array([Sy, Sxy])\n",
    "    z = linalg.solve(M,q)    \n",
    "    \n",
    "    return [z[0], z[1]]\n",
    "\n",
    "points = np.array((x,y)).T\n",
    "\n",
    "[mopt, bopt] = regular_function(points)\n",
    "print(mopt, bopt)\n",
    "error(bopt, mopt, points)"
   ]
  },
  {
   "cell_type": "code",
   "execution_count": 96,
   "metadata": {
    "ExecuteTime": {
     "end_time": "2020-03-09T01:43:36.839952Z",
     "start_time": "2020-03-09T01:43:36.834121Z"
    }
   },
   "outputs": [],
   "source": [
    "def step_gradient(b_current, m_current, points, learningRate):\n",
    "    b_gradient = 0\n",
    "    m_gradient = 0\n",
    "    N = float(len(points))\n",
    "    for i in range(0, len(points)):\n",
    "        x = points[i, 0]\n",
    "        y = points[i, 1]\n",
    "        \n",
    "        b_gradient += -(2/N) * (y - ((m_current * x) + b_current))\n",
    "        m_gradient += -(2/N) * x * (y - ((m_current * x) + b_current))\n",
    "    \n",
    "    new_b = b_current - (learningRate * b_gradient)\n",
    "    new_m = m_current - (learningRate * m_gradient)\n",
    "    return (new_b, new_m)"
   ]
  },
  {
   "cell_type": "code",
   "execution_count": 97,
   "metadata": {
    "ExecuteTime": {
     "end_time": "2020-03-09T01:44:08.739156Z",
     "start_time": "2020-03-09T01:44:08.275192Z"
    }
   },
   "outputs": [
    {
     "name": "stdout",
     "output_type": "stream",
     "text": [
      "0.9 -5 1099.8128678350943\n",
      "Running...\n",
      "Iteration 0: Error = 147.91200550203655\n",
      "Current b = 1.4200132121772207, m = -1.272142831007805\n",
      "Iteration 100: Error = 7.151636938305729\n",
      "Current b = -1.8500792435547546, m = 1.2189976875295523\n",
      "Iteration 200: Error = 2.538779727520591\n",
      "Current b = -3.9519804882484495, m = 1.5387615710695892\n",
      "Iteration 300: Error = 0.9366296854820539\n",
      "Current b = -5.190716873973917, m = 1.7272115081833797\n",
      "Iteration 400: Error = 0.38016659982604556\n",
      "Current b = -5.920754898925845, m = 1.838272765023991\n",
      "Iteration 500: Error = 0.18689433594755564\n",
      "Current b = -6.3509961706097995, m = 1.9037257068499585\n",
      "Iteration 600: Error = 0.1197664905475667\n",
      "Current b = -6.60455495184235, m = 1.9422998029438092\n",
      "Iteration 700: Error = 0.09645146573429209\n",
      "Current b = -6.753987513921989, m = 1.9650330957179358\n",
      "Iteration 800: Error = 0.08835362826007304\n",
      "Current b = -6.842054235575795, m = 1.9784307550978675\n",
      "Iteration 900: Error = 0.08554106544772157\n",
      "Current b = -6.893955557181427, m = 1.9863265438269406\n",
      "Final b = -6.924310411331982, m = 1.9909444515768775\n"
     ]
    }
   ],
   "source": [
    "learning_rate = 0.01\n",
    "\n",
    "b = 0.9 # initial y-intercept guess\n",
    "m = -5 # initial slope guess\n",
    "num_iterations = 1000\n",
    "\n",
    "print(b, m, error(b, m, points))\n",
    "print(\"Running...\")\n",
    "for i in range(num_iterations):\n",
    "    b, m = step_gradient(b, m, array(points), learning_rate)\n",
    "\n",
    "    if i%100 == 0:\n",
    "        print(\"Iteration {}: Error = {}\".format(i, error(b, m, points)))\n",
    "        print(\"Current b = {}, m = {}\".format(b,m))\n",
    "\n",
    "print(\"Final b = {}, m = {}\".format(b,m))\n",
    "    "
   ]
  },
  {
   "cell_type": "markdown",
   "metadata": {
    "ExecuteTime": {
     "end_time": "2020-01-13T04:10:08.021849Z",
     "start_time": "2020-01-13T04:10:08.016056Z"
    }
   },
   "source": [
    "## Problem 7(Split dataset in Sklearn)   \n",
    "### We will talk about this in further project"
   ]
  },
  {
   "cell_type": "markdown",
   "metadata": {},
   "source": [
    "The following code will help you download a dataset describing the housing price, location, etc. in California. "
   ]
  },
  {
   "cell_type": "code",
   "execution_count": 99,
   "metadata": {
    "ExecuteTime": {
     "end_time": "2020-03-09T01:45:58.371612Z",
     "start_time": "2020-03-09T01:45:58.363597Z"
    }
   },
   "outputs": [],
   "source": [
    "import os\n",
    "import tarfile\n",
    "from six.moves import urllib\n",
    "\n",
    "DOWNLOAD_ROOT = \"https://raw.githubusercontent.com/ageron/handson-ml/master/\"\n",
    "HOUSING_PATH = os.path.join(\"datasets\", \"housing\")\n",
    "HOUSING_URL = DOWNLOAD_ROOT + \"datasets/housing/housing.tgz\"\n",
    "\n",
    "def fetch_housing_data(housing_url=HOUSING_URL, housing_path=HOUSING_PATH):\n",
    "    if not os.path.isdir(housing_path):\n",
    "        os.makedirs(housing_path)\n",
    "    tgz_path = os.path.join(housing_path, \"housing.tgz\")\n",
    "    urllib.request.urlretrieve(housing_url, tgz_path)\n",
    "    housing_tgz = tarfile.open(tgz_path)\n",
    "    housing_tgz.extractall(path=housing_path)\n",
    "    housing_tgz.close()"
   ]
  },
  {
   "cell_type": "code",
   "execution_count": 100,
   "metadata": {
    "ExecuteTime": {
     "end_time": "2020-03-09T01:45:59.871809Z",
     "start_time": "2020-03-09T01:45:59.545823Z"
    }
   },
   "outputs": [],
   "source": [
    "fetch_housing_data()"
   ]
  },
  {
   "cell_type": "code",
   "execution_count": 101,
   "metadata": {
    "ExecuteTime": {
     "end_time": "2020-03-09T01:46:20.926993Z",
     "start_time": "2020-03-09T01:46:20.921812Z"
    }
   },
   "outputs": [],
   "source": [
    "import pandas as pd\n",
    "\n",
    "def load_housing_data(housing_path=HOUSING_PATH):\n",
    "    csv_path = os.path.join(housing_path, \"housing.csv\")\n",
    "    return pd.read_csv(csv_path)"
   ]
  },
  {
   "cell_type": "code",
   "execution_count": 102,
   "metadata": {
    "ExecuteTime": {
     "end_time": "2020-03-09T01:46:21.901127Z",
     "start_time": "2020-03-09T01:46:21.834234Z"
    }
   },
   "outputs": [
    {
     "data": {
      "text/html": [
       "<div>\n",
       "<style scoped>\n",
       "    .dataframe tbody tr th:only-of-type {\n",
       "        vertical-align: middle;\n",
       "    }\n",
       "\n",
       "    .dataframe tbody tr th {\n",
       "        vertical-align: top;\n",
       "    }\n",
       "\n",
       "    .dataframe thead th {\n",
       "        text-align: right;\n",
       "    }\n",
       "</style>\n",
       "<table border=\"1\" class=\"dataframe\">\n",
       "  <thead>\n",
       "    <tr style=\"text-align: right;\">\n",
       "      <th></th>\n",
       "      <th>longitude</th>\n",
       "      <th>latitude</th>\n",
       "      <th>housing_median_age</th>\n",
       "      <th>total_rooms</th>\n",
       "      <th>total_bedrooms</th>\n",
       "      <th>population</th>\n",
       "      <th>households</th>\n",
       "      <th>median_income</th>\n",
       "      <th>median_house_value</th>\n",
       "      <th>ocean_proximity</th>\n",
       "    </tr>\n",
       "  </thead>\n",
       "  <tbody>\n",
       "    <tr>\n",
       "      <th>0</th>\n",
       "      <td>-122.23</td>\n",
       "      <td>37.88</td>\n",
       "      <td>41.0</td>\n",
       "      <td>880.0</td>\n",
       "      <td>129.0</td>\n",
       "      <td>322.0</td>\n",
       "      <td>126.0</td>\n",
       "      <td>8.3252</td>\n",
       "      <td>452600.0</td>\n",
       "      <td>NEAR BAY</td>\n",
       "    </tr>\n",
       "    <tr>\n",
       "      <th>1</th>\n",
       "      <td>-122.22</td>\n",
       "      <td>37.86</td>\n",
       "      <td>21.0</td>\n",
       "      <td>7099.0</td>\n",
       "      <td>1106.0</td>\n",
       "      <td>2401.0</td>\n",
       "      <td>1138.0</td>\n",
       "      <td>8.3014</td>\n",
       "      <td>358500.0</td>\n",
       "      <td>NEAR BAY</td>\n",
       "    </tr>\n",
       "    <tr>\n",
       "      <th>2</th>\n",
       "      <td>-122.24</td>\n",
       "      <td>37.85</td>\n",
       "      <td>52.0</td>\n",
       "      <td>1467.0</td>\n",
       "      <td>190.0</td>\n",
       "      <td>496.0</td>\n",
       "      <td>177.0</td>\n",
       "      <td>7.2574</td>\n",
       "      <td>352100.0</td>\n",
       "      <td>NEAR BAY</td>\n",
       "    </tr>\n",
       "    <tr>\n",
       "      <th>3</th>\n",
       "      <td>-122.25</td>\n",
       "      <td>37.85</td>\n",
       "      <td>52.0</td>\n",
       "      <td>1274.0</td>\n",
       "      <td>235.0</td>\n",
       "      <td>558.0</td>\n",
       "      <td>219.0</td>\n",
       "      <td>5.6431</td>\n",
       "      <td>341300.0</td>\n",
       "      <td>NEAR BAY</td>\n",
       "    </tr>\n",
       "    <tr>\n",
       "      <th>4</th>\n",
       "      <td>-122.25</td>\n",
       "      <td>37.85</td>\n",
       "      <td>52.0</td>\n",
       "      <td>1627.0</td>\n",
       "      <td>280.0</td>\n",
       "      <td>565.0</td>\n",
       "      <td>259.0</td>\n",
       "      <td>3.8462</td>\n",
       "      <td>342200.0</td>\n",
       "      <td>NEAR BAY</td>\n",
       "    </tr>\n",
       "  </tbody>\n",
       "</table>\n",
       "</div>"
      ],
      "text/plain": [
       "   longitude  latitude  housing_median_age  total_rooms  total_bedrooms  \\\n",
       "0    -122.23     37.88                41.0        880.0           129.0   \n",
       "1    -122.22     37.86                21.0       7099.0          1106.0   \n",
       "2    -122.24     37.85                52.0       1467.0           190.0   \n",
       "3    -122.25     37.85                52.0       1274.0           235.0   \n",
       "4    -122.25     37.85                52.0       1627.0           280.0   \n",
       "\n",
       "   population  households  median_income  median_house_value ocean_proximity  \n",
       "0       322.0       126.0         8.3252            452600.0        NEAR BAY  \n",
       "1      2401.0      1138.0         8.3014            358500.0        NEAR BAY  \n",
       "2       496.0       177.0         7.2574            352100.0        NEAR BAY  \n",
       "3       558.0       219.0         5.6431            341300.0        NEAR BAY  \n",
       "4       565.0       259.0         3.8462            342200.0        NEAR BAY  "
      ]
     },
     "execution_count": 102,
     "metadata": {},
     "output_type": "execute_result"
    }
   ],
   "source": [
    "housing = load_housing_data()\n",
    "housing.head()"
   ]
  },
  {
   "cell_type": "markdown",
   "metadata": {},
   "source": [
    "For Machine Learning Project, we need to train our model on training set and fine-tune our model in validation set, then test the performance on test set.\n",
    "\n",
    "Try to use diffefent ways to get a test set of the housing data, set aside the remaining part as training set. Typically we split ***20%*** of the dataset as test set.\n",
    "\n",
    "Hint: There are different ways for doing it, including np.random.permutaion, sklearn.model_selection.train_test_split"
   ]
  },
  {
   "cell_type": "code",
   "execution_count": 104,
   "metadata": {
    "ExecuteTime": {
     "end_time": "2020-03-09T01:47:21.170760Z",
     "start_time": "2020-03-09T01:47:21.165091Z"
    }
   },
   "outputs": [],
   "source": [
    "import numpy as np\n",
    "\n",
    "# For illustration only. Sklearn has train_test_split()\n",
    "def split_train_test(data, test_ratio):\n",
    "    shuffled_indices = np.random.permutation(len(data))\n",
    "    test_set_size = int(len(data) * test_ratio)\n",
    "    test_indices = shuffled_indices[:test_set_size]\n",
    "    train_indices = shuffled_indices[test_set_size:]\n",
    "    return data.iloc[train_indices], data.iloc[test_indices]"
   ]
  },
  {
   "cell_type": "code",
   "execution_count": 30,
   "metadata": {
    "ExecuteTime": {
     "end_time": "2020-03-09T00:05:08.355723Z",
     "start_time": "2020-03-09T00:05:08.338953Z"
    }
   },
   "outputs": [
    {
     "name": "stdout",
     "output_type": "stream",
     "text": [
      "16512 train + 4128 test\n"
     ]
    }
   ],
   "source": [
    "train_set, test_set = split_train_test(housing, 0.2)\n",
    "print(len(train_set), \"train +\", len(test_set), \"test\")"
   ]
  },
  {
   "cell_type": "code",
   "execution_count": 103,
   "metadata": {
    "ExecuteTime": {
     "end_time": "2020-03-09T01:46:59.822281Z",
     "start_time": "2020-03-09T01:46:59.808565Z"
    }
   },
   "outputs": [
    {
     "name": "stdout",
     "output_type": "stream",
     "text": [
      "16512 train + 4128 test\n"
     ]
    }
   ],
   "source": [
    "from sklearn.model_selection import train_test_split\n",
    "\n",
    "train_set, test_set = train_test_split(housing, test_size=0.2, random_state=42)\n",
    "print(len(train_set), \"train +\", len(test_set), \"test\")"
   ]
  },
  {
   "cell_type": "code",
   "execution_count": 2,
   "metadata": {},
   "outputs": [],
   "source": [
    "from zlib import crc32\n",
    "\n",
    "def test_set_check(identifier, test_ratio):\n",
    "    return crc32(np.int64(identifier)) & 0xffffffff < test_ratio * 2**32\n",
    "\n",
    "# import hashlib\n",
    "# def test_set_check(identifier, test_ratio, hash=hashlib.md5):\n",
    "#     return bytearray(hash(np.int64(identifier)).digest())[-1] < 256 * test_ratio\n",
    "\n",
    "def split_train_test_by_id(data, test_ratio, id_column):\n",
    "    ids = data[id_column]\n",
    "    in_test_set = ids.apply(lambda id_: test_set_check(id_, test_ratio))\n",
    "    return data.loc[~in_test_set], data.loc[in_test_set]"
   ]
  }
 ],
 "metadata": {
  "kernelspec": {
   "display_name": "Python 3",
   "language": "python",
   "name": "python3"
  },
  "language_info": {
   "codemirror_mode": {
    "name": "ipython",
    "version": 3
   },
   "file_extension": ".py",
   "mimetype": "text/x-python",
   "name": "python",
   "nbconvert_exporter": "python",
   "pygments_lexer": "ipython3",
   "version": "3.7.7"
  },
  "latex_envs": {
   "LaTeX_envs_menu_present": true,
   "autoclose": false,
   "autocomplete": true,
   "bibliofile": "biblio.bib",
   "cite_by": "apalike",
   "current_citInitial": 1,
   "eqLabelWithNumbers": true,
   "eqNumInitial": 1,
   "hotkeys": {
    "equation": "Ctrl-E",
    "itemize": "Ctrl-I"
   },
   "labels_anchors": false,
   "latex_user_defs": false,
   "report_style_numbering": false,
   "user_envs_cfg": false
  },
  "toc": {
   "nav_menu": {},
   "number_sections": true,
   "sideBar": false,
   "skip_h1_title": false,
   "title_cell": "Table of Contents",
   "title_sidebar": "Contents",
   "toc_cell": false,
   "toc_position": {
    "height": "47px",
    "left": "1120.64px",
    "top": "110px",
    "width": "159.359px"
   },
   "toc_section_display": false,
   "toc_window_display": true
  },
  "varInspector": {
   "cols": {
    "lenName": 16,
    "lenType": 16,
    "lenVar": 40
   },
   "kernels_config": {
    "python": {
     "delete_cmd_postfix": "",
     "delete_cmd_prefix": "del ",
     "library": "var_list.py",
     "varRefreshCmd": "print(var_dic_list())"
    },
    "r": {
     "delete_cmd_postfix": ") ",
     "delete_cmd_prefix": "rm(",
     "library": "var_list.r",
     "varRefreshCmd": "cat(var_dic_list()) "
    }
   },
   "types_to_exclude": [
    "module",
    "function",
    "builtin_function_or_method",
    "instance",
    "_Feature"
   ],
   "window_display": false
  }
 },
 "nbformat": 4,
 "nbformat_minor": 2
}
