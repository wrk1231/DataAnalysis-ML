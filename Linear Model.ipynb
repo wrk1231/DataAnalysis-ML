{
 "cells": [
  {
   "cell_type": "markdown",
   "metadata": {},
   "source": [
    "## Linear Model"
   ]
  },
  {
   "cell_type": "markdown",
   "metadata": {},
   "source": [
    "Linear regression is a very simple approach for supervised learning. It's a useful tool for predicting a quantitative response. It has been around for quite a long time and is the topic of innumerable textbooks. Though it may seem too simple when compared to advanced models, it still works widely as a statistical learning method.\n",
    "\n",
    "Although simple, linear regression can work as a great benchmark when we are training our statistical learning model. And beyond linear regression, we can have many generalizations and extensions which make simple linear regression powerful.\n",
    "\n",
    "So it is very important to have a deep understanding of linear regression and learn basic statistical learning essentials based on this simple but important model."
   ]
  },
  {
   "cell_type": "markdown",
   "metadata": {},
   "source": [
    "Linear regression with **Normal Equation**"
   ]
  },
  {
   "cell_type": "code",
   "execution_count": 2,
   "metadata": {},
   "outputs": [],
   "source": [
    "# To support both python 2 and python 3\n",
    "from __future__ import division, print_function, unicode_literals\n",
    "\n",
    "# Common imports\n",
    "import numpy as np\n",
    "import os\n",
    "\n",
    "# to make this notebook's output stable across runs\n",
    "\n",
    "\n",
    "# To plot pretty figures\n",
    "%matplotlib inline\n",
    "import matplotlib\n",
    "import matplotlib.pyplot as plt\n",
    "plt.rcParams['axes.labelsize'] = 14\n",
    "plt.rcParams['xtick.labelsize'] = 12\n",
    "plt.rcParams['ytick.labelsize'] = 12\n",
    "\n",
    "# Where to save the figures\n",
    "PROJECT_ROOT_DIR = \".\"\n",
    "CHAPTER_ID = \"training_linear_models\"\n",
    "\n",
    "def save_fig(fig_id, tight_layout=True):\n",
    "    path = os.path.join(PROJECT_ROOT_DIR, \"images\", CHAPTER_ID, fig_id + \".png\")\n",
    "    print(\"Saving figure\", fig_id)\n",
    "    if tight_layout:\n",
    "        plt.tight_layout()\n",
    "    plt.savefig(path, format='png', dpi=300)\n",
    "\n",
    "# Ignore useless warnings (see SciPy issue #5998)\n",
    "import warnings\n",
    "warnings.filterwarnings(action=\"ignore\", message=\"^internal gelsd\")"
   ]
  },
  {
   "cell_type": "code",
   "execution_count": 9,
   "metadata": {},
   "outputs": [],
   "source": [
    "\n",
    "np.random.seed(42)\n",
    "X = 2 * np.random.rand(100, 1)\n",
    "y = 4 + 3 * X + np.random.randn(100, 1)"
   ]
  },
  {
   "cell_type": "markdown",
   "metadata": {},
   "source": [
    "### Linear Regression Models and Least Squares\n",
    "\n",
    "#### Model assumption:\n",
    "$$y =X\\beta + \\epsilon $$\n",
    "OR \n",
    "$$y = \\beta_0 + \\beta_1 X_1 + \\beta_2 X_2 + ... + \\beta_p X_p + \\epsilon$$\n",
    "There are lots of different model assumptions for linear model. In our case, to make it comparable to other models and put it simply, we can presume such points:\n",
    "\n",
    "1. Linear relationship: Y can be expressed as a linear expression of X\n",
    "2. Random sampling: not all the $X_i$ are the same\n",
    "3. $E[\\epsilon] = 0, E[\\epsilon|X] = 0$, which indicates that $\\epsilon$ is just white noise, if $\\epsilon$ is not around 0, we can shift part of the residual to the intercept term \n",
    "4. No perfect colinearity in $X$: otherwise we can express those variables as linear combination of other dimensions\n",
    "\n",
    "Here in this model expression, inside $X$ we already have intercept $\\beta_0$. $X^T = (1, X_1, X_2, ... ,X_p)$ where $1$ is the vector of all numbers 1. "
   ]
  },
  {
   "cell_type": "markdown",
   "metadata": {},
   "source": [
    "$$\n",
    "X = \\begin{bmatrix}\n",
    "1 & x_{11} & x_{12} & ... & x_{1p}\\\\\n",
    "1 & x_{21} & x_{22} & ... & x_{2p}\\\\\n",
    "... & ... & ... & ... & ...\\\\\n",
    "1 & x_{N1} & x_{N2} & ... & x_{Np}\\\\\n",
    "\\end{bmatrix}\n",
    "$$ \n",
    "\n",
    "Here $N$ is the number of total samples and p is the number of total features. So considering the intercept, totally in $X$ the shape is $N \\times(p+1)$"
   ]
  },
  {
   "cell_type": "markdown",
   "metadata": {},
   "source": [
    "#### Loss function:\n",
    "Here in linear regression, we can easily define loss function as of **MSE: mean square error**\n",
    "$$RSS(\\beta) = \\sum_{i=1}^N(y_i - f(x_i))^2 = \\sum_{i=1}^N(y_i - \\beta_0 - \\sum_{j=1}^p x_{ij}\\beta_j)^2$$\n",
    "\n",
    "Or equivalently:\n",
    "$$RSS(\\beta) = (y- X\\beta)^T(y - X\\beta)$$"
   ]
  },
  {
   "cell_type": "markdown",
   "metadata": {},
   "source": [
    "How to solve this?\n",
    "$$\\frac{\\partial RSS(\\beta)}{\\partial \\beta} = -2X^T(y-X\\beta)$$\n",
    "$$\\frac{\\partial^2 RSS(\\beta)}{\\partial \\beta \\partial \\beta^T} = 2X^TX$$\n",
    "\n",
    "If $X$ is full rank (here we only consider full rank), $X^TX$ is positive definite, so based on the first order condition:\n",
    "$$\\frac{\\partial RSS(\\beta)}{\\partial \\beta} = 0$$\n",
    "We can get \n",
    "$$X^T(y-X\\beta) = 0$$\n",
    "So\n",
    "$$\\hat{\\beta} = (X^TX)^{-1}X^Ty$$\n",
    "Here $\\hat{}$ means the estimation of the parameter"
   ]
  },
  {
   "cell_type": "code",
   "execution_count": 12,
   "metadata": {},
   "outputs": [
    {
     "data": {
      "text/plain": [
       "[0, 2, 0, 15]"
      ]
     },
     "execution_count": 12,
     "metadata": {},
     "output_type": "execute_result"
    },
    {
     "data": {
      "image/png": "[encoded data removed]",
      "text/plain": [
       "<Figure size 432x288 with 1 Axes>"
      ]
     },
     "metadata": {
      "needs_background": "light"
     },
     "output_type": "display_data"
    }
   ],
   "source": [
    "fig = plt.figure()\n",
    "ax = plt.axes()\n",
    "\n",
    "ax.plot(X, y, \"b.\")\n",
    "ax.set_xlabel(\"$x_1$\", fontsize=18)\n",
    "ax.set_ylabel(\"$y$\", rotation=0, fontsize=18)\n",
    "ax.axis([0, 2, 0, 15])\n",
    "\n"
   ]
  },
  {
   "cell_type": "code",
   "execution_count": 8,
   "metadata": {},
   "outputs": [],
   "source": [
    "X_b = np.c_[np.ones((100, 1)), X]  # add x0 = 1 to each instance\n",
    "theta_best = np.linalg.inv(X_b.T.dot(X_b)).dot(X_b.T).dot(y)"
   ]
  },
  {
   "cell_type": "code",
   "execution_count": null,
   "metadata": {},
   "outputs": [],
   "source": []
  }
 ],
 "metadata": {
  "kernelspec": {
   "display_name": "Python 3",
   "language": "python",
   "name": "python3"
  },
  "language_info": {
   "codemirror_mode": {
    "name": "ipython",
    "version": 3
   },
   "file_extension": ".py",
   "mimetype": "text/x-python",
   "name": "python",
   "nbconvert_exporter": "python",
   "pygments_lexer": "ipython3",
   "version": "3.7.7"
  }
 },
 "nbformat": 4,
 "nbformat_minor": 4
}
